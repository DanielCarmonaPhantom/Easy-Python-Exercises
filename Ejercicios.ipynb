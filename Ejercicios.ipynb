{
 "cells": [
  {
   "cell_type": "markdown",
   "metadata": {},
   "source": [
    "## Notebook de Ejercicios"
   ]
  },
  {
   "cell_type": "markdown",
   "metadata": {},
   "source": [
    "## Libreria para las pruebas (Ejecutar)"
   ]
  },
  {
   "cell_type": "code",
   "execution_count": 3,
   "metadata": {},
   "outputs": [],
   "source": [
    "from tests import test_functions\n",
    "test = test_functions.Function_testing()"
   ]
  },
  {
   "cell_type": "markdown",
   "metadata": {},
   "source": [
    "## Ejercicio 1:\n",
    "\n",
    "Instrucciones: \n",
    "\n",
    "Programa que devuelva la longitud de un texto\n",
    "\n"
   ]
  },
  {
   "cell_type": "code",
   "execution_count": 19,
   "metadata": {},
   "outputs": [],
   "source": [
    "def longitud_texto(texto):\n",
    "    contador=0\n",
    "    while True:\n",
    "        try:\n",
    "            texto[contador]\n",
    "            contador += 1\n",
    "        except IndexError:\n",
    "            break\n",
    "    return contador\n"
   ]
  },
  {
   "cell_type": "code",
   "execution_count": 20,
   "metadata": {},
   "outputs": [
    {
     "name": "stdout",
     "output_type": "stream",
     "text": [
      "¡Superaste la prueba!\n"
     ]
    }
   ],
   "source": [
    "test.test_excercise_one(longitud_texto(\"La percepción de este espacio y del silencio\"), 44)"
   ]
  },
  {
   "cell_type": "markdown",
   "metadata": {},
   "source": [
    "## Ejercicio 2\n",
    "\n",
    "Instrucciones:\n",
    "\n",
    "Program que devuelva la cantidad de palabras que tiene un texto"
   ]
  },
  {
   "cell_type": "code",
   "execution_count": 17,
   "metadata": {},
   "outputs": [],
   "source": [
    "def cantidad_palabras(texto):\n",
    "    palabras= texto.split()\n",
    "    respuesta = len(palabras)\n",
    "    return respuesta"
   ]
  },
  {
   "cell_type": "code",
   "execution_count": 18,
   "metadata": {},
   "outputs": [
    {
     "name": "stdout",
     "output_type": "stream",
     "text": [
      "¡Superaste la prueba!\n"
     ]
    }
   ],
   "source": [
    "test.test_excercise_two(cantidad_palabras('La leyenda circula en que el campanario'), 7)"
   ]
  },
  {
   "cell_type": "markdown",
   "metadata": {},
   "source": [
    "## Ejercicio 3\n",
    "\n",
    "Instrucciones:\n",
    "\n",
    "Programa que devuelve la ultima palabra de un texto\n",
    "\n",
    "Ejemplo1 :\n",
    "| Input |  Output |\n",
    "| - | - | \n",
    "| \"buscando un lago\" | \"lago\" | \n",
    "| \"realizaron una orquesta\" | \"orquesta\"\n",
    "\n"
   ]
  },
  {
   "cell_type": "code",
   "execution_count": 28,
   "metadata": {},
   "outputs": [],
   "source": [
    "def ultima_palabra(texto):\n",
    "    palabras= texto.split()\n",
    "    longitud = len(palabras)\n",
    "    respuesta = palabras[longitud-1]\n",
    "    return respuesta"
   ]
  },
  {
   "cell_type": "code",
   "execution_count": 29,
   "metadata": {},
   "outputs": [
    {
     "name": "stdout",
     "output_type": "stream",
     "text": [
      "¡Superaste la prueba 1!\n",
      "¡Superaste la prueba 2!\n"
     ]
    }
   ],
   "source": [
    "# Prueba 1\n",
    "test.test_excercise_three(ultima_palabra('Se encuentran en una boda y conversan por horas'), \"horas\" , 1)\n",
    "\n",
    "# Prueba 2\n",
    "test.test_excercise_three(ultima_palabra('Un aroma suave y natural'), \"natural\", 2)"
   ]
  },
  {
   "cell_type": "markdown",
   "metadata": {},
   "source": [
    "## Ejercicio 4\n",
    "\n",
    "Instrucciones:\n",
    "\n",
    "Programa que devuelve una cadena volteada.\n",
    "\n",
    "Ejemplo1 :\n",
    "| Input |  Output |\n",
    "| - | - | \n",
    "| \"muy temprano\" | \"onarpmet yum\" | \n",
    "| \"un conejo blanco\" | \"ocnalb ojenoc nu\"\n"
   ]
  },
  {
   "cell_type": "code",
   "execution_count": 42,
   "metadata": {},
   "outputs": [],
   "source": [
    "def cadena_volteada(texto):\n",
    "    respuesta = ''.join(reversed(texto))\n",
    "    return respuesta"
   ]
  },
  {
   "cell_type": "code",
   "execution_count": 43,
   "metadata": {},
   "outputs": [
    {
     "name": "stdout",
     "output_type": "stream",
     "text": [
      "¡Superaste la prueba 1!\n",
      "¡Superaste la prueba 2!\n"
     ]
    }
   ],
   "source": [
    "# Prueba 1\n",
    "test.test_excercise_four(cadena_volteada('aquel día fue el perfecto para zarpar'), 'rapraz arap otcefrep le euf aíd leuqa' , 1)\n",
    "\n",
    "# Prueba 2\n",
    "test.test_excercise_four(cadena_volteada('hoy me dieron finalmente una habitación'), 'nóicatibah anu etnemlanif noreid em yoh', 2)"
   ]
  },
  {
   "cell_type": "markdown",
   "metadata": {},
   "source": [
    "## Ejercicio 5\n",
    "\n",
    "Instrucciones:\n",
    "\n",
    "Programa que cuenta la cantidad de veces que hay un caracter en nuestro texto.\n",
    "\n",
    "Ejemplo1 :\n",
    "| Input | Caracter |Output |\n",
    "| - | - | - |\n",
    "| \"la rosa pastel\" | \"a\" | 3 |\n",
    "| \"una misión muy especial\" | \"i\" | 3 \n",
    "| \"El viaje pasa cada que estan juntos\" | \"o\" | 1"
   ]
  },
  {
   "cell_type": "code",
   "execution_count": 83,
   "metadata": {},
   "outputs": [],
   "source": [
    "def contar_caracter(texto, caracter):\n",
    "    ocurrencias= texto.count(\"o\")\n",
    "    return ocurrencias"
   ]
  },
  {
   "cell_type": "code",
   "execution_count": 84,
   "metadata": {},
   "outputs": [
    {
     "name": "stdout",
     "output_type": "stream",
     "text": [
      "¡Superaste la prueba 1!\n"
     ]
    }
   ],
   "source": [
    "# Prueba 1\n",
    "test.test_excercise_five(contar_caracter('fue un día oscuro y lluvioso', 'o'), 4 , 1)"
   ]
  },
  {
   "cell_type": "code",
   "execution_count": 85,
   "metadata": {},
   "outputs": [],
   "source": [
    "def contar_caracter(texto, caracter):\n",
    "    ocurrencias= texto.count(\"e\")\n",
    "    return ocurrencias"
   ]
  },
  {
   "cell_type": "code",
   "execution_count": 86,
   "metadata": {},
   "outputs": [
    {
     "name": "stdout",
     "output_type": "stream",
     "text": [
      "¡Superaste la prueba 2!\n"
     ]
    }
   ],
   "source": [
    "# Prueba 2\n",
    "test.test_excercise_five(contar_caracter('el destino esta escrito pero no tiene un orden' , 'e'), 8, 2)\n"
   ]
  },
  {
   "cell_type": "code",
   "execution_count": 176,
   "metadata": {},
   "outputs": [],
   "source": [
    "def contar_caracter(texto, caracter):\n",
    "    ocurrencias= texto.count(\"a\")\n",
    "    return ocurrencias"
   ]
  },
  {
   "cell_type": "code",
   "execution_count": 177,
   "metadata": {},
   "outputs": [
    {
     "name": "stdout",
     "output_type": "stream",
     "text": [
      "¡Superaste la prueba 3!\n"
     ]
    }
   ],
   "source": [
    "# Prueba 3\n",
    "test.test_excercise_five(contar_caracter('Hay una fuerza extremadamente poderosa', 'a'), 6, 3)"
   ]
  },
  {
   "cell_type": "markdown",
   "metadata": {},
   "source": [
    "## Ejercicio 6\n",
    "\n",
    "Instruciones:\n",
    "\n",
    "Programa que verifica si un texto es un palindromo"
   ]
  },
  {
   "cell_type": "code",
   "execution_count": 244,
   "metadata": {},
   "outputs": [],
   "source": [
    "def palindromo(texto):\n",
    "    texto = texto.lower()\n",
    "    texto= texto.replace(\" \", \"\")\n",
    "\n",
    "    a=0\n",
    "    b= len(texto)-1\n",
    "\n",
    "    for i in range(0,len(texto)):\n",
    "        if texto[a] == texto[b]:\n",
    "            a += 1\n",
    "            b -= 1\n",
    "        else:\n",
    "            return False\n",
    "    return True"
   ]
  },
  {
   "cell_type": "code",
   "execution_count": 245,
   "metadata": {},
   "outputs": [
    {
     "name": "stdout",
     "output_type": "stream",
     "text": [
      "¡Superaste la prueba 1!\n",
      "¡Superaste la prueba 2!\n",
      "¡Superaste la prueba 3!\n"
     ]
    }
   ],
   "source": [
    "# Prueba 1\n",
    "test.test_excercise_six(palindromo('Atar a la rata'), True , 1)\n",
    "\n",
    "# Prueba 2\n",
    "test.test_excercise_six(palindromo('Ella te ama detalle'), False, 2)\n",
    "\n",
    "# Prueba 3\n",
    "test.test_excercise_six(palindromo('Yo hago yoga hoy'), True, 3)"
   ]
  },
  {
   "cell_type": "markdown",
   "metadata": {},
   "source": [
    "## Ejercicio 7\n",
    "\n",
    "Instrucciones:\n",
    "\n",
    "Programa que devuelve en una lista los números que se encuentran en un texto.\n",
    "\n",
    "Ejemplo1 :\n",
    "| Input | Output |\n",
    "| - | - |\n",
    "| \"a1b2c3\" | ['1', '2', '3'] | \n",
    "| \"2h5bnk6ju4\" | ['2', '5', '6', '4'] |\n"
   ]
  },
  {
   "cell_type": "code",
   "execution_count": 189,
   "metadata": {},
   "outputs": [],
   "source": [
    "def lista_numeros_texto(texto):\n",
    "\n",
    "    import re\n",
    "    temp_string = texto\n",
    "    resultado= print([int(s) for s in re.findall(r'-?\\d+\\.?\\d*', temp_string)])\n",
    "    return resultado"
   ]
  },
  {
   "cell_type": "code",
   "execution_count": 190,
   "metadata": {},
   "outputs": [
    {
     "name": "stdout",
     "output_type": "stream",
     "text": [
      "[7, 9, 36, 49, 40, 37, 68, 59]\n",
      "Test 1 no existoso \n",
      "Se esperaba ['7', '9', '3', '6', '4', '9', '4', '0', '3', '7', '6', '8', '5', '9'] y tu resultado fue None\n",
      "[38, 7, 93, 8, 5, 8, 39, 39, 3]\n",
      "Test 2 no existoso \n",
      "Se esperaba ['3', '8', '7', '9', '3', '8', '5', '8', '3', '9', '3', '9', '3'] y tu resultado fue None\n",
      "[7, 9, 2, 7, 48, 20, 29]\n",
      "Test 3 no existoso \n",
      "Se esperaba ['7', '9', '2', '7', '4', '8', '2', '0', '2', '9'] y tu resultado fue None\n"
     ]
    }
   ],
   "source": [
    "# Prueba 1\n",
    "test.test_excercise_seven(lista_numeros_texto('a7b9j36sh49dk40vl37ch68dj59sk'), ['7', '9', '3', '6', '4', '9', '4', '0', '3', '7', '6', '8', '5', '9'] , 1)\n",
    "\n",
    "# Prueba 2\n",
    "test.test_excercise_seven(lista_numeros_texto('g38f7s93js8fj5jf8sj39sj39sj3'), ['3', '8', '7', '9', '3', '8', '5', '8', '3', '9', '3', '9', '3'], 2)\n",
    "\n",
    "# Prueba 3\n",
    "test.test_excercise_seven(lista_numeros_texto('d7fhfs9k2k7sh48fj20fj29djs'), ['7', '9', '2', '7', '4', '8', '2', '0', '2', '9'], 3)"
   ]
  },
  {
   "cell_type": "markdown",
   "metadata": {},
   "source": [
    "## Ejercicio 8:\n",
    "\n",
    "Instrucciones:\n",
    "\n",
    "Programa que devuelve la cantidad de numeros que tiene una lista, sin sus duplicados.\n",
    "\n",
    "Ejemplo1 :\n",
    "| Input | Output |\n",
    "| - | - |\n",
    "| [2,3,2] | 2 | \n",
    "| [2,4,3,5] | 4 |\n",
    "| [2,5,7,5,8,7] | 3 |\n",
    "| [1,2,3,4,3,4,5,6,7] | 7 |\n",
    "\n",
    "\n"
   ]
  },
  {
   "cell_type": "code",
   "execution_count": 218,
   "metadata": {},
   "outputs": [],
   "source": [
    "def cantidad_numeros_1_vez(lista_numeros):\n",
    "   lista_numeros= list(set(lista_numeros))\n",
    "   lista_numeros.sort \n",
    "   return len(lista_numeros)"
   ]
  },
  {
   "cell_type": "code",
   "execution_count": 219,
   "metadata": {},
   "outputs": [
    {
     "name": "stdout",
     "output_type": "stream",
     "text": [
      "¡Superaste la prueba 1!\n",
      "¡Superaste la prueba 2!\n",
      "¡Superaste la prueba 3!\n"
     ]
    }
   ],
   "source": [
    "# Prueba 1\n",
    "test.test_excercise_eight(cantidad_numeros_1_vez([12,45,23,78,34,12,56,89,34,56,23]), 7,  1)\n",
    "\n",
    "# Prueba 2\n",
    "test.test_excercise_eight(cantidad_numeros_1_vez([2,15,27,14,16,12,14,15,17,23,12,5,16]), 9, 2)\n",
    "\n",
    "# Prueba 3\n",
    "test.test_excercise_eight(cantidad_numeros_1_vez([2,5,7,2,7]), 3, 3)"
   ]
  },
  {
   "cell_type": "markdown",
   "metadata": {},
   "source": [
    "## Ejercicio 9:\n",
    "\n",
    "Instrucciones:\n",
    "\n",
    "Programa que devuelve la suma de los numeros positivos que se encuentra en una lista\n",
    "\n",
    "Ejemplo :\n",
    "\n",
    "[ 5, -4 , 9, 5, -3] | => 5 + 9 + 5 =  19\n",
    "\n",
    "El programa devolveria solo el 19\n",
    "\n",
    "\n",
    "Ejemplos:\n",
    "| Entrada | Salida |\n",
    "| - | - |\n",
    "| [4 , -3, -1 , 5] | 9 |\n",
    "| [-3, 5, -5 , 8, 2] | 15 |"
   ]
  },
  {
   "cell_type": "code",
   "execution_count": 222,
   "metadata": {},
   "outputs": [],
   "source": [
    "def suma_numeros_positivos(lista_numeros):\n",
    "    positivos=list(filter(lambda x: x >= 0, lista_numeros))\n",
    "    return sum(positivos)"
   ]
  },
  {
   "cell_type": "code",
   "execution_count": 223,
   "metadata": {},
   "outputs": [
    {
     "name": "stdout",
     "output_type": "stream",
     "text": [
      "¡Superaste la prueba 1!\n",
      "¡Superaste la prueba 2!\n",
      "¡Superaste la prueba 3!\n"
     ]
    }
   ],
   "source": [
    "# Prueba 1\n",
    "test.test_excercise_nine(suma_numeros_positivos([-3, 5, 2, -6, 2, 9]), 18,  1)\n",
    "\n",
    "# Prueba 2\n",
    "test.test_excercise_nine(suma_numeros_positivos([3, 4, -3, 6, 8, -3]), 21, 2)\n",
    "\n",
    "# Prueba 3\n",
    "test.test_excercise_nine(suma_numeros_positivos([-13, 10, 24, -23, 3]), 37, 3)"
   ]
  },
  {
   "cell_type": "markdown",
   "metadata": {},
   "source": [
    "## Ejercicio 10:\n",
    "\n",
    "Instrucciones:\n",
    "\n",
    "Se tienen 2 lista y se desea obtener los numeros de la lista1 que aparezcan en la lista2.\n",
    "(evitar que salgan repetidos en la Salida)\n",
    "\n",
    "Ejemplos:\n",
    "| lista1 | lista2 | Salida |\n",
    "| - | - | - |\n",
    "| [3, 5, 5, 8 ,13 , 15] | [1, 2, 3, 5, 6, 8, 10] | [ 3, 5, 8 ] |\n",
    "| [12, 24, 36, 48 , 60] | [12, 16, 24 ,32 ,40, 48, 54, 64] | [12, 24, 48] |\n",
    "| [1, 2, 3] | [2, 4, 6] | [2] |\n",
    "\n"
   ]
  },
  {
   "cell_type": "code",
   "execution_count": 238,
   "metadata": {},
   "outputs": [],
   "source": [
    "def numeros_listas(lista1, lista2):\n",
    "    a= set(lista1)\n",
    "    b= set(lista2)\n",
    "    a&b\n",
    "    return list(a&b)"
   ]
  },
  {
   "cell_type": "code",
   "execution_count": 240,
   "metadata": {},
   "outputs": [
    {
     "name": "stdout",
     "output_type": "stream",
     "text": [
      "¡Superaste la prueba 1!\n",
      "¡Superaste la prueba 2!\n",
      "¡Superaste la prueba 3!\n"
     ]
    }
   ],
   "source": [
    "# Prueba 1\n",
    "test.test_excercise_ten(numeros_listas([1,2,6,2,7,3,6,2],[2,5,7]), [2, 7],  1)\n",
    "\n",
    "# Prueba 2\n",
    "test.test_excercise_ten(numeros_listas([15,14,2,15,16,14,6,17,15,5,8],[5,7,12,15,18]), [5, 15], 2)\n",
    "\n",
    "# Prueba 3\n",
    "test.test_excercise_ten(numeros_listas([25,70,45,60,25,20,15,75,100,45,75],[30,45,60,85]), [60,45], 3)"
   ]
  }
 ],
 "metadata": {
  "interpreter": {
   "hash": "aee8b7b246df8f9039afb4144a1f6fd8d2ca17a180786b69acc140d282b71a49"
  },
  "kernelspec": {
   "display_name": "Python 3.10.4 64-bit",
   "language": "python",
   "name": "python3"
  },
  "language_info": {
   "codemirror_mode": {
    "name": "ipython",
    "version": 3
   },
   "file_extension": ".py",
   "mimetype": "text/x-python",
   "name": "python",
   "nbconvert_exporter": "python",
   "pygments_lexer": "ipython3",
   "version": "3.11.0"
  },
  "orig_nbformat": 4
 },
 "nbformat": 4,
 "nbformat_minor": 2
}
